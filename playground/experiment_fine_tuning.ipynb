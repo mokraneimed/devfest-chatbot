{
 "cells": [
  {
   "cell_type": "code",
   "execution_count": null,
   "metadata": {},
   "outputs": [],
   "source": [
    "%pip install openai python-dotenv"
   ]
  },
  {
   "cell_type": "code",
   "execution_count": 2,
   "metadata": {},
   "outputs": [],
   "source": [
    "import os, openai\n",
    "\n",
    "from dotenv import load_dotenv\n",
    "\n",
    "# Load environment variables from .env file\n",
    "load_dotenv()\n",
    "openai.api_key = os.getenv(\"OPENAI_API_KEY\")"
   ]
  },
  {
   "cell_type": "markdown",
   "metadata": {},
   "source": [
    "-- DATASET PREPARATION\n",
    "For the gpt-3.5-turbo model, OpenAI requires a jsonl file as a training file in a certain format called (the conversational chat format = CCF), the systemRole defines the context on which the model would behave."
   ]
  },
  {
   "cell_type": "code",
   "execution_count": null,
   "metadata": {},
   "outputs": [],
   "source": [
    "# STEP-0: converting a csv database to jsonl on the CCF format\n",
    "import csv, jsonlines\n",
    "\n",
    "# Convert the csv file named \"filename\" (without .csv) and returns the same filename for jsonl file.\n",
    "def csv2jsonl_ccf(filename, systemRole):\n",
    "    with open(filename+\".csv\", \"r\", encoding=\"utf-8\") as file:\n",
    "        f_in = csv.reader(file)\n",
    "        next(f_in) # skip the header row\n",
    "\n",
    "        with jsonlines.open(filename+\".jsonl\",\"w\") as f_out:\n",
    "            system = {\n",
    "                    \"role\": \"system\",\n",
    "                    \"content\": systemRole\n",
    "                }\n",
    "            for (qst, rep) in f_in:\n",
    "                user = {\n",
    "                    \"role\": \"user\",\n",
    "                    \"content\": qst\n",
    "                }\n",
    "                assistant = {\n",
    "                    \"role\": \"assistant\",\n",
    "                    \"content\": rep\n",
    "\n",
    "                }\n",
    "                entry = {\n",
    "                    \"messages\": [system, user, assistant]\n",
    "                }\n",
    "                f_out.write(entry)\n",
    "\n",
    "# Testing the conversion\n",
    "csv2jsonl_ccf (\"../data/devfest_qa_dataset\",\"You are a kind helpful assitant in DevFest GDG event\")"
   ]
  },
  {
   "cell_type": "code",
   "execution_count": null,
   "metadata": {},
   "outputs": [],
   "source": [
    "# STEP-1: uploading the training file\n",
    "data = openai.File.create(\n",
    "    file=open(\"../data/devfest_qa_dataset.jsonl\", \"rb\"),\n",
    "    purpose='fine-tune'\n",
    ")\n",
    "print(data.id) # ex: file-yp2g7yTbWUwa9YVCJbAHtTEX"
   ]
  },
  {
   "cell_type": "markdown",
   "metadata": {},
   "source": [
    "-- MODEL CREATION\n",
    "Based on the jsonl dataset created and uploaded above in the OpenAI Cloud storage, we will create the fine-tuned model trained specifically on our dataset. The process can take some time and the success response will be sent on the api-key account owner, but in the meanwhile, we can still check the process evolution (status variable) "
   ]
  },
  {
   "cell_type": "code",
   "execution_count": 3,
   "metadata": {},
   "outputs": [
    {
     "ename": "NameError",
     "evalue": "name 'data' is not defined",
     "output_type": "error",
     "traceback": [
      "\u001b[1;31m---------------------------------------------------------------------------\u001b[0m",
      "\u001b[1;31mNameError\u001b[0m                                 Traceback (most recent call last)",
      "\u001b[1;32mc:\\DATA\\Development\\Artificial Intelligence\\GDG\\DevFest23-chatBot\\playground\\fine_tuning.ipynb Cell 7\u001b[0m line \u001b[0;36m2\n\u001b[0;32m      <a href='vscode-notebook-cell:/c%3A/DATA/Development/Artificial%20Intelligence/GDG/DevFest23-chatBot/playground/fine_tuning.ipynb#W6sZmlsZQ%3D%3D?line=0'>1</a>\u001b[0m \u001b[39m# STEP-2.1: creating the model\u001b[39;00m\n\u001b[1;32m----> <a href='vscode-notebook-cell:/c%3A/DATA/Development/Artificial%20Intelligence/GDG/DevFest23-chatBot/playground/fine_tuning.ipynb#W6sZmlsZQ%3D%3D?line=1'>2</a>\u001b[0m resp \u001b[39m=\u001b[39m openai\u001b[39m.\u001b[39mFineTuningJob\u001b[39m.\u001b[39mcreate(training_file\u001b[39m=\u001b[39mdata\u001b[39m.\u001b[39mid, model\u001b[39m=\u001b[39m\u001b[39m\"\u001b[39m\u001b[39mgpt-3.5-turbo\u001b[39m\u001b[39m\"\u001b[39m)\n\u001b[0;32m      <a href='vscode-notebook-cell:/c%3A/DATA/Development/Artificial%20Intelligence/GDG/DevFest23-chatBot/playground/fine_tuning.ipynb#W6sZmlsZQ%3D%3D?line=2'>3</a>\u001b[0m \u001b[39mprint\u001b[39m(resp)  \n\u001b[0;32m      <a href='vscode-notebook-cell:/c%3A/DATA/Development/Artificial%20Intelligence/GDG/DevFest23-chatBot/playground/fine_tuning.ipynb#W6sZmlsZQ%3D%3D?line=3'>4</a>\u001b[0m \u001b[39m#ex1 fine-tune job: ftjob-YmiMDwb5JJ7LUbdQRUHKoe32\u001b[39;00m\n",
      "\u001b[1;31mNameError\u001b[0m: name 'data' is not defined"
     ]
    }
   ],
   "source": [
    "# STEP-2.1: creating the model\n",
    "resp = openai.FineTuningJob.create(training_file=data.id, model=\"gpt-3.5-turbo\")\n",
    "print(resp)  \n",
    "#ex1 fine-tune job: ftjob-YmiMDwb5JJ7LUbdQRUHKoe32"
   ]
  },
  {
   "cell_type": "code",
   "execution_count": 4,
   "metadata": {},
   "outputs": [
    {
     "name": "stdout",
     "output_type": "stream",
     "text": [
      "ft:gpt-3.5-turbo-0613:personal::85iF2qDK\n"
     ]
    }
   ],
   "source": [
    "# STEP-2.2: Checking The Process Evolution\n",
    "\n",
    "# List 10 fine-tuning jobs\n",
    "jobs = openai.FineTuningJob.list(limit=10)\n",
    "# print (jobs) #--> get the fine-tuning job id (data.id)\n",
    "# print(jobs[\"data\"][0][\"id\"]) #--> get the fine-tuning job id (data.id)\n",
    "\n",
    "# Retrieve the state of a fine-tune job\n",
    "status = jobs[\"data\"][0][\"status\"]\n",
    "model_name = jobs[\"data\"][0][\"fine_tuned_model\"]\n",
    "\n",
    "print(model_name)"
   ]
  },
  {
   "cell_type": "markdown",
   "metadata": {},
   "source": [
    "-- USING THE FINE-TUNED MODEL\n",
    "Let's create now a Q/A assistant with the resulting model"
   ]
  },
  {
   "cell_type": "code",
   "execution_count": null,
   "metadata": {},
   "outputs": [],
   "source": [
    "# gives the response of a given prompt while taking into account the context of the conversation\n",
    "def chat_with_mygpt(prompt, context):\n",
    "    try:\n",
    "        systemRole = \"You are a kind helpful assitant in DevFest GDG event\"\n",
    "        # Call the OpenAI API using the /v1/chat/completions endpoint\n",
    "        completion = openai.ChatCompletion.create(\n",
    "            model=model_name,  # to be changed when needed\n",
    "            messages=[\n",
    "                {\"role\": \"system\", \"content\": systemRole},\n",
    "                {\"role\": \"user\", \"content\": prompt},\n",
    "                {\"role\": \"assistant\", \"content\": context}\n",
    "            ]\n",
    "        )\n",
    "        # Extract the assistant's reply from the response\n",
    "        reply = completion.choices[0].message.content\n",
    "        return reply\n",
    "    except Exception as e:\n",
    "        return str(e)\n",
    "    \n",
    "# Main usage :    \n",
    "print(\"Welcome to our DevFestGPT!\")\n",
    "context = \"\"\n",
    "\n",
    "while True:\n",
    "    user_input = input(\"You: \")\n",
    "\n",
    "    if user_input.lower() in ('exit', 'quit'):\n",
    "        print(\"Goodbye!\")\n",
    "        break\n",
    "\n",
    "    # Call the chat_with_gpt function to get the assistant's reply\n",
    "    assistant_reply = chat_with_mygpt(user_input, context)\n",
    "\n",
    "    print(\"DevFestGPT:\", assistant_reply)\n",
    "\n",
    "    context = assistant_reply"
   ]
  }
 ],
 "metadata": {
  "kernelspec": {
   "display_name": ".venv",
   "language": "python",
   "name": "python3"
  },
  "language_info": {
   "codemirror_mode": {
    "name": "ipython",
    "version": 3
   },
   "file_extension": ".py",
   "mimetype": "text/x-python",
   "name": "python",
   "nbconvert_exporter": "python",
   "pygments_lexer": "ipython3",
   "version": "3.11.0"
  },
  "orig_nbformat": 4
 },
 "nbformat": 4,
 "nbformat_minor": 2
}
