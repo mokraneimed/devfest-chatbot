{
 "cells": [
  {
   "cell_type": "code",
   "execution_count": 1,
   "id": "866ec5e8",
   "metadata": {},
   "outputs": [
    {
     "name": "stderr",
     "output_type": "stream",
     "text": [
      "C:\\Users\\youcef\\AppData\\Local\\Programs\\Python\\Python310\\lib\\site-packages\\pinecone\\index.py:4: TqdmExperimentalWarning: Using `tqdm.autonotebook.tqdm` in notebook mode. Use `tqdm.tqdm` instead to force console mode (e.g. in jupyter console)\n",
      "  from tqdm.autonotebook import tqdm\n"
     ]
    }
   ],
   "source": [
    "import pinecone\n",
    "import os\n",
    "import warnings\n",
    "warnings.filterwarnings(\"ignore\")"
   ]
  },
  {
   "cell_type": "code",
   "execution_count": 2,
   "id": "68fb3c4a",
   "metadata": {},
   "outputs": [],
   "source": [
    "pinecone.init(      \n",
    "\tapi_key='0f974a83-d911-40bc-916d-8c3356131b3a',      \n",
    "\tenvironment='gcp-starter'      \n",
    ")      \n",
    "index = pinecone.Index('chatbot')"
   ]
  },
  {
   "cell_type": "code",
   "execution_count": 3,
   "id": "15b8d475",
   "metadata": {},
   "outputs": [],
   "source": [
    "import pandas as pd \n",
    "from langchain.vectorstores import Pinecone\n",
    "from langchain.document_loaders import TextLoader\n",
    "from langchain.text_splitter import RecursiveCharacterTextSplitter\n",
    "from langchain.embeddings import HuggingFaceEmbeddings"
   ]
  },
  {
   "cell_type": "code",
   "execution_count": 4,
   "id": "7e5a0ca9",
   "metadata": {},
   "outputs": [],
   "source": [
    "info_df = pd.read_json(\"../data/devfest_chunks.json\")"
   ]
  },
  {
   "cell_type": "code",
   "execution_count": 5,
   "id": "8c6b4494",
   "metadata": {},
   "outputs": [
    {
     "data": {
      "text/html": [
       "<div>\n",
       "<style scoped>\n",
       "    .dataframe tbody tr th:only-of-type {\n",
       "        vertical-align: middle;\n",
       "    }\n",
       "\n",
       "    .dataframe tbody tr th {\n",
       "        vertical-align: top;\n",
       "    }\n",
       "\n",
       "    .dataframe thead th {\n",
       "        text-align: right;\n",
       "    }\n",
       "</style>\n",
       "<table border=\"1\" class=\"dataframe\">\n",
       "  <thead>\n",
       "    <tr style=\"text-align: right;\">\n",
       "      <th></th>\n",
       "      <th>0</th>\n",
       "    </tr>\n",
       "  </thead>\n",
       "  <tbody>\n",
       "    <tr>\n",
       "      <th>0</th>\n",
       "      <td>Event\\nDescription\\nDevFest 2023, which is sho...</td>\n",
       "    </tr>\n",
       "    <tr>\n",
       "      <th>1</th>\n",
       "      <td>Event\\nformat and timeline\\nDevfest’23 will be...</td>\n",
       "    </tr>\n",
       "    <tr>\n",
       "      <th>2</th>\n",
       "      <td>Event\\nParticipants number\\nThe Challenges par...</td>\n",
       "    </tr>\n",
       "    <tr>\n",
       "      <th>3</th>\n",
       "      <td>Event\\nStructure\\nThere will be two parts: a h...</td>\n",
       "    </tr>\n",
       "    <tr>\n",
       "      <th>4</th>\n",
       "      <td>Event Challenges\\nTimeline and place\\nDate: Oc...</td>\n",
       "    </tr>\n",
       "  </tbody>\n",
       "</table>\n",
       "</div>"
      ],
      "text/plain": [
       "                                                   0\n",
       "0  Event\\nDescription\\nDevFest 2023, which is sho...\n",
       "1  Event\\nformat and timeline\\nDevfest’23 will be...\n",
       "2  Event\\nParticipants number\\nThe Challenges par...\n",
       "3  Event\\nStructure\\nThere will be two parts: a h...\n",
       "4  Event Challenges\\nTimeline and place\\nDate: Oc..."
      ]
     },
     "execution_count": 5,
     "metadata": {},
     "output_type": "execute_result"
    }
   ],
   "source": [
    "info_df.head()"
   ]
  },
  {
   "cell_type": "code",
   "execution_count": 6,
   "id": "6691eb23",
   "metadata": {},
   "outputs": [
    {
     "name": "stderr",
     "output_type": "stream",
     "text": [
      "No sentence-transformers model found with name C:\\Users\\youcef/.cache\\torch\\sentence_transformers\\bert-large-uncased. Creating a new one with MEAN pooling.\n",
      "Some weights of the model checkpoint at C:\\Users\\youcef/.cache\\torch\\sentence_transformers\\bert-large-uncased were not used when initializing BertModel: ['cls.predictions.transform.LayerNorm.weight', 'cls.seq_relationship.weight', 'cls.predictions.transform.dense.weight', 'cls.predictions.transform.LayerNorm.bias', 'cls.predictions.bias', 'cls.predictions.transform.dense.bias', 'cls.seq_relationship.bias']\n",
      "- This IS expected if you are initializing BertModel from the checkpoint of a model trained on another task or with another architecture (e.g. initializing a BertForSequenceClassification model from a BertForPreTraining model).\n",
      "- This IS NOT expected if you are initializing BertModel from the checkpoint of a model that you expect to be exactly identical (initializing a BertForSequenceClassification model from a BertForSequenceClassification model).\n"
     ]
    }
   ],
   "source": [
    "embeddings = HuggingFaceEmbeddings(model_name=\"bert-large-uncased\")"
   ]
  },
  {
   "cell_type": "code",
   "execution_count": 7,
   "id": "28c7f5e4",
   "metadata": {},
   "outputs": [],
   "source": [
    "info_df = info_df.astype(str)\n",
    "texts = info_df.values.tolist()\n",
    "docsearch = Pinecone.from_texts([t[0] for t in texts], embeddings, index_name=\"chatbot\")"
   ]
  },
  {
   "cell_type": "code",
   "execution_count": 8,
   "id": "7585c60e",
   "metadata": {},
   "outputs": [],
   "source": [
    "import requests"
   ]
  },
  {
   "cell_type": "code",
   "execution_count": 9,
   "id": "84008c62",
   "metadata": {},
   "outputs": [],
   "source": [
    "import ai21\n",
    "from dotenv import load_dotenv\n",
    "load_dotenv()\n",
    "ai21.api_key = os.getenv(\"AI21_API_KEY\")\n"
   ]
  },
  {
   "cell_type": "code",
   "execution_count": 10,
   "id": "abb2bd35",
   "metadata": {},
   "outputs": [
    {
     "data": {
      "text/plain": [
       "[Document(page_content='Event\\nDescription\\nDevFest 2023, which is short for \"Developer Festival,\" is a yearly tech event organized by Google Developers Groups.\\nAt DevFest, you can meet other tech enthusiasts , learn new things, and stay updated on the latest tech trends. ', metadata={}),\n",
       " Document(page_content='Event\\nDescription\\nDevFest 2023, which is short for \"Developer Festival,\" is a yearly tech event organized by Google Developers Groups.\\nAt DevFest, you can meet other tech enthusiasts , learn new things, and stay updated on the latest tech trends. ', metadata={}),\n",
       " Document(page_content='Event Hackathon\\nWorkshops and mentorship\\nWhile there are no workshops scheduled for the hackathon,\\r\\nYes, there will be mentorship sessions, our mentors will be available to assist you whenever you need guidance or have questions during the hackathon. \\r', metadata={}),\n",
       " Document(page_content='Event Hackathon\\nWorkshops and mentorship\\nWhile there are no workshops scheduled for the hackathon,\\r\\nYes, there will be mentorship sessions, our mentors will be available to assist you whenever you need guidance or have questions during the hackathon. \\r', metadata={}),\n",
       " Document(page_content='Event Challenges\\nPrizes\\nPrizes include computer components, software subscriptions and hoodies', metadata={}),\n",
       " Document(page_content='Event Challenges\\nPrizes\\nPrizes include computer components, software subscriptions and hoodies', metadata={}),\n",
       " Document(page_content='Event Hackathon\\nPrizes\\nHackathon prizes include a trip to anywhere in the world', metadata={}),\n",
       " Document(page_content='Event Hackathon\\nPrizes\\nHackathon prizes include a trip to anywhere in the world', metadata={}),\n",
       " Document(page_content='Event Challenges\\nFields\\n Web, Mobile, AI, Cyber Security, Game Dev', metadata={}),\n",
       " Document(page_content='Event Challenges\\nFields\\n Web, Mobile, AI, Cyber Security, Game Dev', metadata={}),\n",
       " Document(page_content='Event Challenges\\nWinning\\nWinners will be anounced and mentioned in our social media', metadata={}),\n",
       " Document(page_content='Event Challenges\\nWinning\\nWinners will be anounced and mentioned in our social media', metadata={}),\n",
       " Document(page_content='Event Challenges\\nChallenges plateform\\nFind Devfest challenges at GDG Challenges plateform: gdg.challenges.com', metadata={}),\n",
       " Document(page_content='Event Challenges\\nChallenges plateform\\nFind Devfest challenges at GDG Challenges plateform: gdg.challenges.com', metadata={}),\n",
       " Document(page_content='Event\\nformat and timeline\\nDevfest’23 will be divided into two parts: Challenges happening online on October 19, where you can tackle tech problems and learn and the second part Hackathon on November 30, where you can code, create, and compete.', metadata={}),\n",
       " Document(page_content='Event\\nformat and timeline\\nDevfest’23 will be divided into two parts: Challenges happening online on October 19, where you can tackle tech problems and learn and the second part Hackathon on November 30, where you can code, create, and compete.', metadata={}),\n",
       " Document(page_content='Event Hackathon\\nRegistration\\nRegistration for DevFest 2023 is simple and convenient. Follow these steps to secure your spot:\\r\\n- Visit our official Devfest’23 website throughout the link : providing the link \\r\\n- Click on the \"Register Now\" button to start the registration process.\\r\\n- You will be guided through the registration form where you can select to register for the hackathon. \\r\\n- Once your registration is complete, you will receive a confirmation email whether you are accepted or not, with more details about devfest’23.', metadata={}),\n",
       " Document(page_content='Event Hackathon\\nRegistration\\nRegistration for DevFest 2023 is simple and convenient. Follow these steps to secure your spot:\\r\\n- Visit our official Devfest’23 website throughout the link : providing the link \\r\\n- Click on the \"Register Now\" button to start the registration process.\\r\\n- You will be guided through the registration form where you can select to register for the hackathon. \\r\\n- Once your registration is complete, you will receive a confirmation email whether you are accepted or not, with more details about devfest’23.', metadata={}),\n",
       " Document(page_content='Event Hackathon\\nTeams\\nThe team size is 5 participants', metadata={}),\n",
       " Document(page_content='Event Hackathon\\nTeams\\nThe team size is 5 participants', metadata={})]"
      ]
     },
     "execution_count": 10,
     "metadata": {},
     "output_type": "execute_result"
    }
   ],
   "source": [
    "docsearch.similarity_search(\"where devfest will be held\",20)"
   ]
  },
  {
   "cell_type": "code",
   "execution_count": null,
   "id": "8eb93899",
   "metadata": {},
   "outputs": [],
   "source": [
    "while True:\n",
    "        question = input(\"\\n ask your question here : \")\n",
    "        docs = docsearch.similarity_search(question,10)\n",
    "        answers = []\n",
    "        for doc in docs:\n",
    "            answers.append(str(doc.page_content))\n",
    "        context = \" \".join(answers)\n",
    "        answer = ai21.Answer.execute(context=context,question=question)['answer']\n",
    "        if(answer==None):\n",
    "            print(\"Sorry i can't answer this question, I'm a chatbot dedicated to only answer questions related to devfest\")\n",
    "        else:\n",
    "            print(answer)"
   ]
  },
  {
   "cell_type": "code",
   "execution_count": null,
   "id": "824f2012",
   "metadata": {},
   "outputs": [],
   "source": []
  }
 ],
 "metadata": {
  "kernelspec": {
   "display_name": "Python 3 (ipykernel)",
   "language": "python",
   "name": "python3"
  },
  "language_info": {
   "codemirror_mode": {
    "name": "ipython",
    "version": 3
   },
   "file_extension": ".py",
   "mimetype": "text/x-python",
   "name": "python",
   "nbconvert_exporter": "python",
   "pygments_lexer": "ipython3",
   "version": "3.10.6"
  }
 },
 "nbformat": 4,
 "nbformat_minor": 5
}
